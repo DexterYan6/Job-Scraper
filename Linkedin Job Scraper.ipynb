{
 "cells": [
  {
   "cell_type": "code",
   "execution_count": 264,
   "id": "4646a439",
   "metadata": {},
   "outputs": [],
   "source": [
    "from selenium import webdriver\n",
    "import time\n",
    "import pandas as pd\n",
    "import os\n",
    "\n",
    "from selenium.webdriver.support.select import Select\n",
    "from selenium.webdriver.support.ui import WebDriverWait\n",
    "from selenium.webdriver.common.by import By\n",
    "from selenium.webdriver.support import expected_conditions as EC\n",
    "\n",
    "driver = webdriver.Chrome(executable_path='chromedriver')"
   ]
  },
  {
   "cell_type": "code",
   "execution_count": 265,
   "id": "c672f60f",
   "metadata": {},
   "outputs": [],
   "source": [
    "url1 = 'https://ca.linkedin.com/jobs/search?keywords=Software%20Engineer&location=Toronto%2C%20Ontario%2C%20Canada&locationId=&geoId=100761630&f_TPR=r2592000&distance=25&f_E=1&position=1&pageNum=0'"
   ]
  },
  {
   "cell_type": "code",
   "execution_count": 266,
   "id": "1377a747",
   "metadata": {},
   "outputs": [],
   "source": [
    "driver.get(url1)\n",
    "driver.implicitly_wait(10)"
   ]
  },
  {
   "cell_type": "code",
   "execution_count": 269,
   "id": "b11082a0",
   "metadata": {},
   "outputs": [],
   "source": [
    "#scroll height\n",
    "lastHeight = driver.execute_script(\"return document.body.scrollHeight\")\n",
    "while True:\n",
    "    #scroll to bottom of page\n",
    "    driver.execute_script(\"window.scrollTo(0, document.body.scrollHeight);\")\n",
    "    time.sleep(3)\n",
    "    #click \"load more results\" button\n",
    "    scroll = driver.find_element(By.XPATH,\"//button[@aria-label='Load more results']\")\n",
    "    driver.execute_script('arguments[0].click();', scroll)\n",
    "    \n",
    "    #get new height, compare with previous height\n",
    "    newHeight = driver.execute_script(\"return document.body.scrollHeight\")\n",
    "    if newHeight == lastHeight:\n",
    "        break\n",
    "    lastHeight = newHeight"
   ]
  },
  {
   "cell_type": "code",
   "execution_count": 270,
   "id": "1d9026bb",
   "metadata": {},
   "outputs": [],
   "source": [
    "companyName = []\n",
    "titleName = []"
   ]
  },
  {
   "cell_type": "code",
   "execution_count": 271,
   "id": "3993a276",
   "metadata": {},
   "outputs": [
    {
     "data": {
      "text/plain": [
       "46"
      ]
     },
     "execution_count": 271,
     "metadata": {},
     "output_type": "execute_result"
    }
   ],
   "source": [
    "#find company name and append to list\n",
    "i = 0\n",
    "while True:\n",
    "    try:\n",
    "        company = driver.find_elements(By.CLASS_NAME, 'base-search-card__subtitle')[i].text\n",
    "        i = i + 1\n",
    "        companyName.append(company)\n",
    "    except:\n",
    "        break \n",
    "\n",
    "len(companyName)"
   ]
  },
  {
   "cell_type": "code",
   "execution_count": 272,
   "id": "f0d407ba",
   "metadata": {},
   "outputs": [
    {
     "data": {
      "text/plain": [
       "46"
      ]
     },
     "execution_count": 272,
     "metadata": {},
     "output_type": "execute_result"
    }
   ],
   "source": [
    "#find title name and append to list\n",
    "i = 0\n",
    "while True:\n",
    "    try:\n",
    "        title = driver.find_elements(By.CLASS_NAME, 'base-search-card__title')[i].text\n",
    "        i = i + 1\n",
    "        titleName.append(title)\n",
    "    except:\n",
    "        break \n",
    "\n",
    "len(titleName)"
   ]
  },
  {
   "cell_type": "code",
   "execution_count": 273,
   "id": "a5f3be34",
   "metadata": {},
   "outputs": [],
   "source": [
    "#create a subList\n",
    "companyFinal = pd.DataFrame(companyName,columns=[\"company\"])\n",
    "titleFinal = pd.DataFrame(titleName,columns=[\"title\"])\n",
    "\n",
    "subList = companyFinal.join(titleFinal)"
   ]
  },
  {
   "cell_type": "code",
   "execution_count": 274,
   "id": "92b908c4",
   "metadata": {},
   "outputs": [
    {
     "data": {
      "text/plain": [
       "46"
      ]
     },
     "execution_count": 274,
     "metadata": {},
     "output_type": "execute_result"
    }
   ],
   "source": [
    "#find job links and append to list\n",
    "jobList = driver.find_elements(By.CLASS_NAME, 'base-card__full-link')\n",
    "hrefList = []\n",
    "for i in jobList:\n",
    "    hrefList.append(i.get_attribute('href'))\n",
    "\n",
    "len(hrefList)"
   ]
  },
  {
   "cell_type": "code",
   "execution_count": 275,
   "id": "3c6f3261",
   "metadata": {},
   "outputs": [],
   "source": [
    "#create final list save to csv file\n",
    "hrefFinal = pd.DataFrame(hrefList, columns = [\"links\"])\n",
    "finalList = subList.join(hrefFinal)\n",
    "\n",
    "finalList.to_csv('jobs.csv')"
   ]
  },
  {
   "cell_type": "code",
   "execution_count": 276,
   "id": "db619b99",
   "metadata": {},
   "outputs": [],
   "source": [
    "driver.close()"
   ]
  }
 ],
 "metadata": {
  "kernelspec": {
   "display_name": "Python 3 (ipykernel)",
   "language": "python",
   "name": "python3"
  },
  "language_info": {
   "codemirror_mode": {
    "name": "ipython",
    "version": 3
   },
   "file_extension": ".py",
   "mimetype": "text/x-python",
   "name": "python",
   "nbconvert_exporter": "python",
   "pygments_lexer": "ipython3",
   "version": "3.9.13"
  }
 },
 "nbformat": 4,
 "nbformat_minor": 5
}
